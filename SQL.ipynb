{
  "nbformat": 4,
  "nbformat_minor": 0,
  "metadata": {
    "colab": {
      "provenance": [],
      "include_colab_link": true
    },
    "kernelspec": {
      "name": "python3",
      "display_name": "Python 3"
    },
    "language_info": {
      "name": "python"
    }
  },
  "cells": [
    {
      "cell_type": "markdown",
      "metadata": {
        "id": "view-in-github",
        "colab_type": "text"
      },
      "source": [
        "<a href=\"https://colab.research.google.com/github/awildsheepchase/MySQL/blob/main/SQL.ipynb\" target=\"_parent\"><img src=\"https://colab.research.google.com/assets/colab-badge.svg\" alt=\"Open In Colab\"/></a>"
      ]
    },
    {
      "cell_type": "code",
      "execution_count": null,
      "metadata": {
        "colab": {
          "base_uri": "https://localhost:8080/"
        },
        "id": "O6TQTKOt7gay",
        "outputId": "3ed86d5f-6173-45e1-9b0e-53e0211f1dfe"
      },
      "outputs": [
        {
          "name": "stdout",
          "output_type": "stream",
          "text": [
            "+------+--------+------------+--------------+\n",
            "| 編號 |  姓名  |    生日    |     地址     |\n",
            "+------+--------+------------+--------------+\n",
            "|  1   | 陳文在 | 1993-11-01 | 台北市中山區 |\n",
            "|  2   | 蕭宇殷 | 1990-05-22 | 新北市板橋區 |\n",
            "|  3   | 藍天晴 | 1997-02-10 | 桃園市中壢區 |\n",
            "|  4   | 林致世 | 1992-10-10 | 新竹縣竹東鎮 |\n",
            "|  5   | 呂來來 | 1997-03-01 | 新北市萬里區 |\n",
            "|  10  | 蔡杉智 | 1993-07-05 | 台北市大安區 |\n",
            "|  11  | 姚文武 | 1995-07-11 | 台北市北投區 |\n",
            "|  12  | 關自如 | 1996-10-21 | 新北市永和區 |\n",
            "|  20  | 周怡敏 | 1988-12-11 | 新北市三重區 |\n",
            "|  21  | 白依依 | 1985-01-05 | 新北市新店區 |\n",
            "|  22  | 鄭芷茵 | 1993-02-10 | 新北市林口區 |\n",
            "+------+--------+------------+--------------+\n",
            "\n",
            "(0) 離開程式\n",
            "(1) 顯示會員列表\n",
            "(2) 新增會員資料\n",
            "(3) 更新會員資料\n",
            "(4) 刪除會員資料\n",
            "指令：0\n"
          ]
        }
      ],
      "source": [
        "# !pip install pymysql\n",
        "import pymysql\n",
        "import IPython.display as dp\n",
        "import prettytable\n",
        "\n",
        "db = pymysql.connect(\n",
        "  host = input(\"請輸入主機位置：\"),\n",
        "  user =input(\"請輸入資料庫帳號：\"),\n",
        "  passwd =input(\"請輸入資料庫密碼：\"),\n",
        "  db =input(\"請輸入資料庫名稱：\"),\n",
        "  charset =\"utf8\" ,\n",
        "  port = int(input(\"請輸入資料庫的Port：\"))\n",
        "  )\n",
        "dp.clear_output(True)\n",
        "while True:\n",
        "  cur = db.cursor()\n",
        "  print(\"\"\"\n",
        "(0) 離開程式\n",
        "(1) 顯示會員列表\n",
        "(2) 新增會員資料\n",
        "(3) 更新會員資料\n",
        "(4) 刪除會員資料\"\"\")\n",
        "  c = input(\"指令：\")\n",
        "\n",
        "  cur.execute(\"SELECT * FROM `member`\")\n",
        "  data = cur.fetchall()\n",
        "  table = prettytable.PrettyTable([\"編號\",\"姓名\",\"生日\",\"地址\"], encodeing=\"utf-8\")\n",
        "  if c == \"1\":\n",
        "    dp.clear_output(True)\n",
        "    for d in data:\n",
        "      table.add_row([d[0],d[1],d[2],d[3]])\n",
        "      table.align[\"名稱\"]= \"l\"\n",
        "      # print(d[0],d[1],d[2],d[3])\n",
        "    print(table)\n",
        "  elif c == \"2\":\n",
        "    dp.clear_output(True)\n",
        "    insertdata = [input(\"請輸入會員姓名：\"),input(\"請輸入會員生日：\"),input(\"請輸入會員地址：\")]\n",
        "    cur.execute(\"INSERT INTO `member`(`name`,`birthday`,`address`) VALUE(%s,%s,%s)\",insertdata)\n",
        "  elif c == \"3\":\n",
        "    dp.clear_output(True)\n",
        "    for d in data:\n",
        "      table.add_row([d[0],d[1],d[2],d[3]])\n",
        "      table.align[\"名稱\"]= \"l\"\n",
        "      # print(d[0],d[1],d[2],d[3])\n",
        "    print(table)\n",
        "    updata = {\n",
        "        \"a\": input(\"請選擇你要修改的資料編號：\"),\n",
        "        \"b\": input(\"請輸入會員姓名：\"),\n",
        "        \"c\": input(\"請輸入會員生日：\"),\n",
        "        \"d\": input(\"請輸入會員地址：\")\n",
        "        }\n",
        "    cur.execute(\"UPDATE `member` SET `name`=%(b)s, `birthday`=%(c)s, `address`=%(d)s WHERE `id`=%(a)s\", updata)\n",
        "    db.commit()\n",
        "  elif c == \"4\":\n",
        "    dp.clear_output(True)\n",
        "    for d in data:\n",
        "      table.add_row([d[0],d[1],d[2],d[3]])\n",
        "      table.align[\"名稱\"]= \"l\"\n",
        "      # print(d[0],d[1],d[2],d[3])\n",
        "    print(table)\n",
        "    deldata = {\"e\":input(\"請選擇你要刪除的資料編號：\")}\n",
        "    cur.execute(\"DELETE FROM `member` WHERE `id`=%(e)s\", deldata)\n",
        "    db.commit()\n",
        "  elif c == \"0\":\n",
        "    db.close()\n",
        "    break"
      ]
    }
  ]
}